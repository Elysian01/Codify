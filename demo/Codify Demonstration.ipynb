{
 "cells": [
  {
   "cell_type": "markdown",
   "id": "71fe274b",
   "metadata": {},
   "source": [
    "<h1 style=\"text-align:center\">Codify Demonstration</h1>"
   ]
  },
  {
   "cell_type": "markdown",
   "id": "eb80d04c",
   "metadata": {},
   "source": [
    "## Iris Dataset \n",
    "\n",
    "<br>\n",
    "\n",
    "<h3>\n",
    "Classes Info<br>\n",
    "    <ul>\n",
    "    <li>Iris-setosa = 0 </li>\n",
    "<li>Iris-versicolor = 1 </li>\n",
    "<li>Iris-virginica = 2 </li>\n",
    "    </ul>\n",
    "</h3>"
   ]
  },
  {
   "cell_type": "markdown",
   "id": "028d3c7f",
   "metadata": {},
   "source": [
    "### load csv file"
   ]
  },
  {
   "cell_type": "code",
   "execution_count": 10,
   "id": "30d1031c",
   "metadata": {},
   "outputs": [],
   "source": [
    "# load csv file\n",
    "import pandas as pd\n",
    "df = pd.read_csv(\"./iris.csv\", encoding=\"utf-8\")"
   ]
  },
  {
   "cell_type": "markdown",
   "id": "fce8c006",
   "metadata": {},
   "source": [
    "### head of dataset"
   ]
  },
  {
   "cell_type": "code",
   "execution_count": 11,
   "id": "cca1c35e",
   "metadata": {},
   "outputs": [
    {
     "data": {
      "text/html": [
       "<div>\n",
       "<style scoped>\n",
       "    .dataframe tbody tr th:only-of-type {\n",
       "        vertical-align: middle;\n",
       "    }\n",
       "\n",
       "    .dataframe tbody tr th {\n",
       "        vertical-align: top;\n",
       "    }\n",
       "\n",
       "    .dataframe thead th {\n",
       "        text-align: right;\n",
       "    }\n",
       "</style>\n",
       "<table border=\"1\" class=\"dataframe\">\n",
       "  <thead>\n",
       "    <tr style=\"text-align: right;\">\n",
       "      <th></th>\n",
       "      <th>Id</th>\n",
       "      <th>SepalLengthCm</th>\n",
       "      <th>SepalWidthCm</th>\n",
       "      <th>PetalLengthCm</th>\n",
       "      <th>PetalWidthCm</th>\n",
       "      <th>Species</th>\n",
       "    </tr>\n",
       "  </thead>\n",
       "  <tbody>\n",
       "    <tr>\n",
       "      <th>0</th>\n",
       "      <td>1</td>\n",
       "      <td>5.1</td>\n",
       "      <td>3.5</td>\n",
       "      <td>1.4</td>\n",
       "      <td>0.2</td>\n",
       "      <td>0</td>\n",
       "    </tr>\n",
       "    <tr>\n",
       "      <th>1</th>\n",
       "      <td>2</td>\n",
       "      <td>4.9</td>\n",
       "      <td>3.0</td>\n",
       "      <td>1.4</td>\n",
       "      <td>0.2</td>\n",
       "      <td>0</td>\n",
       "    </tr>\n",
       "    <tr>\n",
       "      <th>2</th>\n",
       "      <td>3</td>\n",
       "      <td>4.7</td>\n",
       "      <td>3.2</td>\n",
       "      <td>1.3</td>\n",
       "      <td>0.2</td>\n",
       "      <td>0</td>\n",
       "    </tr>\n",
       "    <tr>\n",
       "      <th>3</th>\n",
       "      <td>4</td>\n",
       "      <td>4.6</td>\n",
       "      <td>3.1</td>\n",
       "      <td>1.5</td>\n",
       "      <td>0.2</td>\n",
       "      <td>0</td>\n",
       "    </tr>\n",
       "    <tr>\n",
       "      <th>4</th>\n",
       "      <td>5</td>\n",
       "      <td>5.0</td>\n",
       "      <td>3.6</td>\n",
       "      <td>1.4</td>\n",
       "      <td>0.2</td>\n",
       "      <td>0</td>\n",
       "    </tr>\n",
       "  </tbody>\n",
       "</table>\n",
       "</div>"
      ],
      "text/plain": [
       "   Id  SepalLengthCm  SepalWidthCm  PetalLengthCm  PetalWidthCm  Species\n",
       "0   1            5.1           3.5            1.4           0.2        0\n",
       "1   2            4.9           3.0            1.4           0.2        0\n",
       "2   3            4.7           3.2            1.3           0.2        0\n",
       "3   4            4.6           3.1            1.5           0.2        0\n",
       "4   5            5.0           3.6            1.4           0.2        0"
      ]
     },
     "execution_count": 11,
     "metadata": {},
     "output_type": "execute_result"
    }
   ],
   "source": [
    "# head of dataset\n",
    "df.head()"
   ]
  },
  {
   "cell_type": "markdown",
   "id": "26524946",
   "metadata": {},
   "source": [
    "### display null values in percent"
   ]
  },
  {
   "cell_type": "code",
   "execution_count": 13,
   "id": "bc185261",
   "metadata": {},
   "outputs": [
    {
     "name": "stdout",
     "output_type": "stream",
     "text": [
      "\n",
      "Null Information of Dataframe: \n",
      "\n",
      "\n",
      "There are total 4 columns having null values out of 6 columns in dataframe\n",
      "\n"
     ]
    },
    {
     "data": {
      "text/html": [
       "<div>\n",
       "<style scoped>\n",
       "    .dataframe tbody tr th:only-of-type {\n",
       "        vertical-align: middle;\n",
       "    }\n",
       "\n",
       "    .dataframe tbody tr th {\n",
       "        vertical-align: top;\n",
       "    }\n",
       "\n",
       "    .dataframe thead th {\n",
       "        text-align: right;\n",
       "    }\n",
       "</style>\n",
       "<table border=\"1\" class=\"dataframe\">\n",
       "  <thead>\n",
       "    <tr style=\"text-align: right;\">\n",
       "      <th></th>\n",
       "      <th>column_name</th>\n",
       "      <th>null_rows</th>\n",
       "      <th>null_percentage</th>\n",
       "    </tr>\n",
       "  </thead>\n",
       "  <tbody>\n",
       "    <tr>\n",
       "      <th>0</th>\n",
       "      <td>SepalLengthCm</td>\n",
       "      <td>2</td>\n",
       "      <td>1.333333</td>\n",
       "    </tr>\n",
       "    <tr>\n",
       "      <th>1</th>\n",
       "      <td>SepalWidthCm</td>\n",
       "      <td>2</td>\n",
       "      <td>1.333333</td>\n",
       "    </tr>\n",
       "    <tr>\n",
       "      <th>2</th>\n",
       "      <td>PetalWidthCm</td>\n",
       "      <td>2</td>\n",
       "      <td>1.333333</td>\n",
       "    </tr>\n",
       "    <tr>\n",
       "      <th>3</th>\n",
       "      <td>PetalLengthCm</td>\n",
       "      <td>1</td>\n",
       "      <td>0.666667</td>\n",
       "    </tr>\n",
       "  </tbody>\n",
       "</table>\n",
       "</div>"
      ],
      "text/plain": [
       "     column_name  null_rows  null_percentage\n",
       "0  SepalLengthCm          2         1.333333\n",
       "1   SepalWidthCm          2         1.333333\n",
       "2   PetalWidthCm          2         1.333333\n",
       "3  PetalLengthCm          1         0.666667"
      ]
     },
     "metadata": {},
     "output_type": "display_data"
    },
    {
     "data": {
      "text/html": [
       "<div>\n",
       "<style scoped>\n",
       "    .dataframe tbody tr th:only-of-type {\n",
       "        vertical-align: middle;\n",
       "    }\n",
       "\n",
       "    .dataframe tbody tr th {\n",
       "        vertical-align: top;\n",
       "    }\n",
       "\n",
       "    .dataframe thead th {\n",
       "        text-align: right;\n",
       "    }\n",
       "</style>\n",
       "<table border=\"1\" class=\"dataframe\">\n",
       "  <thead>\n",
       "    <tr style=\"text-align: right;\">\n",
       "      <th></th>\n",
       "      <th>column_name</th>\n",
       "      <th>null_rows</th>\n",
       "      <th>null_percentage</th>\n",
       "    </tr>\n",
       "  </thead>\n",
       "  <tbody>\n",
       "    <tr>\n",
       "      <th>0</th>\n",
       "      <td>SepalLengthCm</td>\n",
       "      <td>2</td>\n",
       "      <td>1.333333</td>\n",
       "    </tr>\n",
       "    <tr>\n",
       "      <th>1</th>\n",
       "      <td>SepalWidthCm</td>\n",
       "      <td>2</td>\n",
       "      <td>1.333333</td>\n",
       "    </tr>\n",
       "    <tr>\n",
       "      <th>2</th>\n",
       "      <td>PetalWidthCm</td>\n",
       "      <td>2</td>\n",
       "      <td>1.333333</td>\n",
       "    </tr>\n",
       "    <tr>\n",
       "      <th>3</th>\n",
       "      <td>PetalLengthCm</td>\n",
       "      <td>1</td>\n",
       "      <td>0.666667</td>\n",
       "    </tr>\n",
       "  </tbody>\n",
       "</table>\n",
       "</div>"
      ],
      "text/plain": [
       "     column_name  null_rows  null_percentage\n",
       "0  SepalLengthCm          2         1.333333\n",
       "1   SepalWidthCm          2         1.333333\n",
       "2   PetalWidthCm          2         1.333333\n",
       "3  PetalLengthCm          1         0.666667"
      ]
     },
     "execution_count": 13,
     "metadata": {},
     "output_type": "execute_result"
    }
   ],
   "source": [
    "# display null values in percent\n",
    "from IPython.display import display\n",
    "\n",
    "def null_columns_percentage(df) -> pd.DataFrame:\n",
    "    '''\n",
    "        Prints Null Information of dataframe,i.e. only the number of rows having null values and their null percentage\n",
    "    '''\n",
    "    print(\"\\nNull Information of Dataframe: \\n\")\n",
    "    null_df = pd.DataFrame(df.isnull().sum()).reset_index()\n",
    "    null_df.columns = [\"column_name\", \"null_rows\"]\n",
    "    null_df[\"null_percentage\"] = null_df[\"null_rows\"]*100 / df.shape[0]\n",
    "    null_df = null_df[null_df[\"null_percentage\"] != 0].sort_values(\n",
    "        \"null_percentage\", ascending=False).reset_index(drop=True)\n",
    "    print(\n",
    "        f\"\\nThere are total {null_df.shape[0]} columns having null values out of {df.shape[1]} columns in dataframe\\n\")\n",
    "    display(null_df)\n",
    "    return null_df\n",
    "\n",
    "null_columns_percentage(df)"
   ]
  },
  {
   "cell_type": "markdown",
   "id": "6f7e534e",
   "metadata": {},
   "source": [
    "### replace null values with their mean values"
   ]
  },
  {
   "cell_type": "code",
   "execution_count": 14,
   "id": "874a6119",
   "metadata": {},
   "outputs": [
    {
     "name": "stdout",
     "output_type": "stream",
     "text": [
      "Missing: 0\n"
     ]
    }
   ],
   "source": [
    "# replace null values with their mean values\n",
    "df.fillna(df.mean(), inplace=True)\n",
    "print('Missing: %d' % df.isnull().sum().sum())"
   ]
  },
  {
   "cell_type": "markdown",
   "id": "7cfdd42a",
   "metadata": {},
   "source": [
    "### dataset statistics"
   ]
  },
  {
   "cell_type": "code",
   "execution_count": 15,
   "id": "798c5f49",
   "metadata": {},
   "outputs": [
    {
     "name": "stdout",
     "output_type": "stream",
     "text": [
      "\n",
      "There are total 0 categorical and 6 numerical columns\n",
      "\n",
      "Description of Data:\n",
      "\n"
     ]
    },
    {
     "data": {
      "text/html": [
       "<div>\n",
       "<style scoped>\n",
       "    .dataframe tbody tr th:only-of-type {\n",
       "        vertical-align: middle;\n",
       "    }\n",
       "\n",
       "    .dataframe tbody tr th {\n",
       "        vertical-align: top;\n",
       "    }\n",
       "\n",
       "    .dataframe thead th {\n",
       "        text-align: right;\n",
       "    }\n",
       "</style>\n",
       "<table border=\"1\" class=\"dataframe\">\n",
       "  <thead>\n",
       "    <tr style=\"text-align: right;\">\n",
       "      <th></th>\n",
       "      <th>Id</th>\n",
       "      <th>SepalLengthCm</th>\n",
       "      <th>SepalWidthCm</th>\n",
       "      <th>PetalLengthCm</th>\n",
       "      <th>PetalWidthCm</th>\n",
       "      <th>Species</th>\n",
       "    </tr>\n",
       "  </thead>\n",
       "  <tbody>\n",
       "    <tr>\n",
       "      <th>count</th>\n",
       "      <td>150.000000</td>\n",
       "      <td>150.000000</td>\n",
       "      <td>150.000000</td>\n",
       "      <td>150.000000</td>\n",
       "      <td>150.000000</td>\n",
       "      <td>150.000000</td>\n",
       "    </tr>\n",
       "    <tr>\n",
       "      <th>mean</th>\n",
       "      <td>75.500000</td>\n",
       "      <td>5.854054</td>\n",
       "      <td>3.056081</td>\n",
       "      <td>3.775168</td>\n",
       "      <td>1.202027</td>\n",
       "      <td>1.000000</td>\n",
       "    </tr>\n",
       "    <tr>\n",
       "      <th>std</th>\n",
       "      <td>43.445368</td>\n",
       "      <td>0.818279</td>\n",
       "      <td>0.429332</td>\n",
       "      <td>1.752808</td>\n",
       "      <td>0.760825</td>\n",
       "      <td>0.819232</td>\n",
       "    </tr>\n",
       "    <tr>\n",
       "      <th>min</th>\n",
       "      <td>1.000000</td>\n",
       "      <td>4.400000</td>\n",
       "      <td>2.000000</td>\n",
       "      <td>1.000000</td>\n",
       "      <td>0.100000</td>\n",
       "      <td>0.000000</td>\n",
       "    </tr>\n",
       "    <tr>\n",
       "      <th>25%</th>\n",
       "      <td>38.250000</td>\n",
       "      <td>5.100000</td>\n",
       "      <td>2.800000</td>\n",
       "      <td>1.600000</td>\n",
       "      <td>0.300000</td>\n",
       "      <td>0.000000</td>\n",
       "    </tr>\n",
       "    <tr>\n",
       "      <th>50%</th>\n",
       "      <td>75.500000</td>\n",
       "      <td>5.800000</td>\n",
       "      <td>3.000000</td>\n",
       "      <td>4.350000</td>\n",
       "      <td>1.300000</td>\n",
       "      <td>1.000000</td>\n",
       "    </tr>\n",
       "    <tr>\n",
       "      <th>75%</th>\n",
       "      <td>112.750000</td>\n",
       "      <td>6.400000</td>\n",
       "      <td>3.300000</td>\n",
       "      <td>5.100000</td>\n",
       "      <td>1.800000</td>\n",
       "      <td>2.000000</td>\n",
       "    </tr>\n",
       "    <tr>\n",
       "      <th>max</th>\n",
       "      <td>150.000000</td>\n",
       "      <td>7.900000</td>\n",
       "      <td>4.400000</td>\n",
       "      <td>6.900000</td>\n",
       "      <td>2.500000</td>\n",
       "      <td>2.000000</td>\n",
       "    </tr>\n",
       "  </tbody>\n",
       "</table>\n",
       "</div>"
      ],
      "text/plain": [
       "               Id  SepalLengthCm  SepalWidthCm  PetalLengthCm  PetalWidthCm  \\\n",
       "count  150.000000     150.000000    150.000000     150.000000    150.000000   \n",
       "mean    75.500000       5.854054      3.056081       3.775168      1.202027   \n",
       "std     43.445368       0.818279      0.429332       1.752808      0.760825   \n",
       "min      1.000000       4.400000      2.000000       1.000000      0.100000   \n",
       "25%     38.250000       5.100000      2.800000       1.600000      0.300000   \n",
       "50%     75.500000       5.800000      3.000000       4.350000      1.300000   \n",
       "75%    112.750000       6.400000      3.300000       5.100000      1.800000   \n",
       "max    150.000000       7.900000      4.400000       6.900000      2.500000   \n",
       "\n",
       "          Species  \n",
       "count  150.000000  \n",
       "mean     1.000000  \n",
       "std      0.819232  \n",
       "min      0.000000  \n",
       "25%      0.000000  \n",
       "50%      1.000000  \n",
       "75%      2.000000  \n",
       "max      2.000000  "
      ]
     },
     "metadata": {},
     "output_type": "display_data"
    },
    {
     "name": "stdout",
     "output_type": "stream",
     "text": [
      "Information regarding data: \n",
      "\n",
      "<class 'pandas.core.frame.DataFrame'>\n",
      "RangeIndex: 150 entries, 0 to 149\n",
      "Data columns (total 6 columns):\n",
      " #   Column         Non-Null Count  Dtype  \n",
      "---  ------         --------------  -----  \n",
      " 0   Id             150 non-null    int64  \n",
      " 1   SepalLengthCm  150 non-null    float64\n",
      " 2   SepalWidthCm   150 non-null    float64\n",
      " 3   PetalLengthCm  150 non-null    float64\n",
      " 4   PetalWidthCm   150 non-null    float64\n",
      " 5   Species        150 non-null    int64  \n",
      "dtypes: float64(4), int64(2)\n",
      "memory usage: 7.2 KB\n"
     ]
    },
    {
     "data": {
      "text/plain": [
       "None"
      ]
     },
     "metadata": {},
     "output_type": "display_data"
    },
    {
     "name": "stdout",
     "output_type": "stream",
     "text": [
      "\n",
      "Congrats!!, The Dataframe has NO NULL VALUES\n",
      "\n"
     ]
    }
   ],
   "source": [
    "# dataset statistics\n",
    "\n",
    "\n",
    "def columns_type(df) -> tuple:\n",
    "    '''\n",
    "        return number of categorical and numerical columns\n",
    "    '''\n",
    "    numerics = ['int16', 'int32', 'int64',\n",
    "                'float16', 'float32', 'float64']\n",
    "    num_cols = df.select_dtypes(include=numerics).columns.tolist()\n",
    "    cat_columns = len(df.select_dtypes(\n",
    "        include=\"O\").columns.tolist())\n",
    "    num_columns = len(num_cols)\n",
    "    return (cat_columns, num_columns)\n",
    "\n",
    "\n",
    "def null_columns_percentage(df) -> pd.DataFrame:\n",
    "    '''\n",
    "    Prints Null Information of dataframe,i.e. only the number of rows having null values and their null percentage\n",
    "    '''\n",
    "    print(\"\\nNull Information of Dataframe: \\n\")\n",
    "    null_df = pd.DataFrame(df.isnull().sum()).reset_index()\n",
    "    null_df.columns = [\"column_name\", \"null_rows\"]\n",
    "    null_df[\"null_percentage\"] = null_df[\"null_rows\"] * \\\n",
    "        100 / df.shape[0]\n",
    "    null_df = null_df[null_df[\"null_percentage\"] != 0].sort_values(\n",
    "        \"null_percentage\", ascending=False).reset_index(drop=True)\n",
    "    print(\n",
    "        f\"\\nThere are total {null_df.shape[0]} columns having null values out of {df.shape[1]} columns in dataframe\\n\")\n",
    "    display(null_df)\n",
    "    return null_df\n",
    "\n",
    "\n",
    "def statistics(df) -> None:\n",
    "    '''\n",
    "    Gives number of categorical and numerical columns, description and info regarding the dataframe\n",
    "    '''\n",
    "    attribute_types = columns_type(df)\n",
    "    print(\n",
    "        f\"\\nThere are total {attribute_types[0]} categorical and {attribute_types[1]} numerical columns\\n\")\n",
    "\n",
    "    print(\"Description of Data:\\n\")\n",
    "    display(df.describe())\n",
    "\n",
    "    print(\"Information regarding data: \\n\")\n",
    "    display(df.info())\n",
    "\n",
    "    if df.isnull().sum().sum() > 0:\n",
    "        null_columns_percentage(df)\n",
    "    else:\n",
    "        print(\n",
    "            \"\\nCongrats!!, The Dataframe has NO NULL VALUES\\n\")\n",
    "        \n",
    "statistics(df)"
   ]
  },
  {
   "cell_type": "code",
   "execution_count": 16,
   "id": "d5dc8f49",
   "metadata": {},
   "outputs": [
    {
     "name": "stdout",
     "output_type": "stream",
     "text": [
      "Shape of X:  (150, 5)\n",
      "Shape of y:  (150,)\n"
     ]
    }
   ],
   "source": [
    "X = df.drop(\"Species\", axis=1)\n",
    "y = df[\"Species\"]\n",
    "\n",
    "print(\"Shape of X: \", X.shape)\n",
    "print(\"Shape of y: \", y.shape)"
   ]
  },
  {
   "cell_type": "markdown",
   "id": "3097620a",
   "metadata": {},
   "source": [
    "### Split the dataset into train and test set"
   ]
  },
  {
   "cell_type": "code",
   "execution_count": 17,
   "id": "fc4fa9ff",
   "metadata": {},
   "outputs": [
    {
     "name": "stdout",
     "output_type": "stream",
     "text": [
      "Shape of X train =  (120, 5)\n",
      "Shape of y train =  (120,)\n",
      "Shape of X test =  (30, 5)\n",
      "Shape of y test =  (30,)\n"
     ]
    }
   ],
   "source": [
    "# Split the dataset into train and test set\n",
    "\n",
    "from sklearn.model_selection import train_test_split\n",
    "\n",
    "X_train, X_test, y_train, y_test = train_test_split(\n",
    "    X, y, test_size=0.2, random_state=41)\n",
    "\n",
    "print(\"Shape of X train = \", X_train.shape)\n",
    "print(\"Shape of y train = \", y_train.shape)\n",
    "print(\"Shape of X test = \", X_test.shape)\n",
    "print(\"Shape of y test = \", y_test.shape)\n"
   ]
  },
  {
   "cell_type": "markdown",
   "id": "2f6f9c1a",
   "metadata": {},
   "source": [
    "### fit all classification models"
   ]
  },
  {
   "cell_type": "code",
   "execution_count": 18,
   "id": "73cab2b5",
   "metadata": {},
   "outputs": [
    {
     "name": "stdout",
     "output_type": "stream",
     "text": [
      "Support Vector Machine Accuracy:  96.66666666666667\n",
      "Decision Tree Accuracy:  96.66666666666667\n",
      "Random Forest Accuracy:  100.0\n",
      "KNN Accuracy:  100.0\n",
      "Naive Bayes Accuracy:  96.66666666666667\n"
     ]
    }
   ],
   "source": [
    "# fit all classification models\n",
    "\n",
    "from sklearn.svm import SVC\n",
    "from sklearn.neighbors import KNeighborsClassifier\n",
    "from sklearn.ensemble import RandomForestClassifier\n",
    "from sklearn.tree import DecisionTreeClassifier\n",
    "from sklearn.naive_bayes import GaussianNB\n",
    "\n",
    "model_dict = {1: \"Support Vector Machine\", 2: \"Decision Tree\",\n",
    "              3: \"Random Forest\", 4: \"KNN\", 5: \"Naive Bayes\"}\n",
    "\n",
    "\n",
    "def model(X_train, y_train, X_test, y_test):\n",
    "\n",
    "    # Logistic Regression\n",
    "    #     logistic_classifier = LogisticRegression()\n",
    "    #     logistic_classifier.fit(X_train,y_train)\n",
    "    #     logistic_classifier_score = logistic_classifier.score(X_test, y_test)\n",
    "    #     print(\"Logistic Regression Accuracy: \", logistic_classifier_score * 100)\n",
    "\n",
    "    # Support Vector Classification\n",
    "    sv_classifier = SVC(kernel=\"rbf\")\n",
    "    sv_classifier.fit(X_train, y_train)\n",
    "    sv_classifier_score = sv_classifier.score(X_test, y_test)\n",
    "    print(\"Support Vector Machine Accuracy: \", sv_classifier_score * 100)\n",
    "\n",
    "    # Decision Tree\n",
    "    dt_classifier = DecisionTreeClassifier(criterion=\"gini\")\n",
    "    dt_classifier.fit(X_train, y_train)\n",
    "    dt_classifier_score = dt_classifier.score(X_test, y_test)\n",
    "    print(\"Decision Tree Accuracy: \", dt_classifier_score * 100)\n",
    "\n",
    "    # Random Forest\n",
    "    rf_classifier = RandomForestClassifier(n_estimators=100, criterion=\"gini\")\n",
    "    rf_classifier.fit(X_train, y_train)\n",
    "    rf_classifier_score = rf_classifier.score(X_test, y_test)\n",
    "    print(\"Random Forest Accuracy: \", rf_classifier_score * 100)\n",
    "\n",
    "    # KNN\n",
    "    knn_classifier = KNeighborsClassifier(n_neighbors=5)\n",
    "    knn_classifier.fit(X_train, y_train)\n",
    "    knn_classifier_score = knn_classifier.score(X_test, y_test)\n",
    "    print(\"KNN Accuracy: \", knn_classifier_score * 100)\n",
    "\n",
    "    # Naive Bayes\n",
    "    naive_classifier = GaussianNB()\n",
    "    naive_classifier.fit(X_train, y_train)\n",
    "    naive_classifier_score = naive_classifier.score(X_test, y_test)\n",
    "    print(\"Naive Bayes Accuracy: \", naive_classifier_score * 100)\n",
    "\n",
    "    return sv_classifier, dt_classifier, rf_classifier, knn_classifier, naive_classifier\n",
    "\n",
    "\n",
    "models = model(X_train, y_train, X_test, y_test)\n"
   ]
  },
  {
   "cell_type": "markdown",
   "id": "43ca6c82",
   "metadata": {},
   "source": [
    "### evaluate classification models"
   ]
  },
  {
   "cell_type": "code",
   "execution_count": 19,
   "id": "d7357da6",
   "metadata": {},
   "outputs": [
    {
     "name": "stdout",
     "output_type": "stream",
     "text": [
      "Support Vector Machine Model \n",
      "\n",
      "Classification Report: \n",
      "              precision    recall  f1-score   support\n",
      "\n",
      "           0       1.00      0.89      0.94         9\n",
      "           1       0.92      1.00      0.96        11\n",
      "           2       1.00      1.00      1.00        10\n",
      "\n",
      "    accuracy                           0.97        30\n",
      "   macro avg       0.97      0.96      0.97        30\n",
      "weighted avg       0.97      0.97      0.97        30\n",
      "\n",
      "\n",
      "Support Vector Machine model accuracy: 0.97\n",
      "\n",
      "-------------------------------------------------------\n",
      "\n",
      "Decision Tree Model \n",
      "\n",
      "Classification Report: \n",
      "              precision    recall  f1-score   support\n",
      "\n",
      "           0       1.00      0.89      0.94         9\n",
      "           1       0.92      1.00      0.96        11\n",
      "           2       1.00      1.00      1.00        10\n",
      "\n",
      "    accuracy                           0.97        30\n",
      "   macro avg       0.97      0.96      0.97        30\n",
      "weighted avg       0.97      0.97      0.97        30\n",
      "\n",
      "\n",
      "Decision Tree model accuracy: 0.97\n",
      "\n",
      "-------------------------------------------------------\n",
      "\n",
      "Random Forest Model \n",
      "\n",
      "Classification Report: \n",
      "              precision    recall  f1-score   support\n",
      "\n",
      "           0       1.00      1.00      1.00         9\n",
      "           1       1.00      1.00      1.00        11\n",
      "           2       1.00      1.00      1.00        10\n",
      "\n",
      "    accuracy                           1.00        30\n",
      "   macro avg       1.00      1.00      1.00        30\n",
      "weighted avg       1.00      1.00      1.00        30\n",
      "\n",
      "\n",
      "Random Forest model accuracy: 1.0\n",
      "\n",
      "-------------------------------------------------------\n",
      "\n",
      "KNN Model \n",
      "\n",
      "Classification Report: \n",
      "              precision    recall  f1-score   support\n",
      "\n",
      "           0       1.00      1.00      1.00         9\n",
      "           1       1.00      1.00      1.00        11\n",
      "           2       1.00      1.00      1.00        10\n",
      "\n",
      "    accuracy                           1.00        30\n",
      "   macro avg       1.00      1.00      1.00        30\n",
      "weighted avg       1.00      1.00      1.00        30\n",
      "\n",
      "\n",
      "KNN model accuracy: 1.0\n",
      "\n",
      "-------------------------------------------------------\n",
      "\n",
      "Naive Bayes Model \n",
      "\n",
      "Classification Report: \n",
      "              precision    recall  f1-score   support\n",
      "\n",
      "           0       1.00      0.89      0.94         9\n",
      "           1       0.92      1.00      0.96        11\n",
      "           2       1.00      1.00      1.00        10\n",
      "\n",
      "    accuracy                           0.97        30\n",
      "   macro avg       0.97      0.96      0.97        30\n",
      "weighted avg       0.97      0.97      0.97        30\n",
      "\n",
      "\n",
      "Naive Bayes model accuracy: 0.97\n",
      "\n",
      "-------------------------------------------------------\n",
      "\n"
     ]
    }
   ],
   "source": [
    "# evaluate classification \n",
    "\n",
    "from sklearn.metrics import accuracy_score\n",
    "from sklearn.metrics import classification_report\n",
    "\n",
    "i = 0\n",
    "for key, value in model_dict.items():\n",
    "    print(f\"{value} Model \")\n",
    "    print(f\"\\nClassification Report: \\n{classification_report(y_test, models[i].predict(X_test))}\")\n",
    "    print(f\"\\n{value} model accuracy: {round(accuracy_score(y_test, models[i].predict(X_test)), 2)}\")\n",
    "    print(f'\\n{\"-\"*55}\\n')\n",
    "    i+=1"
   ]
  },
  {
   "cell_type": "code",
   "execution_count": 20,
   "id": "513878e4",
   "metadata": {},
   "outputs": [
    {
     "ename": "IndentationError",
     "evalue": "expected an indented block (Temp/ipykernel_15396/4115833372.py, line 6)",
     "output_type": "error",
     "traceback": [
      "\u001b[1;36m  File \u001b[1;32m\"C:\\Users\\abhis\\AppData\\Local\\Temp/ipykernel_15396/4115833372.py\"\u001b[1;36m, line \u001b[1;32m6\u001b[0m\n\u001b[1;33m    print(f\"{value} Model \")\u001b[0m\n\u001b[1;37m        ^\u001b[0m\n\u001b[1;31mIndentationError\u001b[0m\u001b[1;31m:\u001b[0m expected an indented block\n"
     ]
    }
   ],
   "source": [
    "from sklearn.metrics import accuracy_score\n",
    "from sklearn.metrics import classification_report\n",
    "\n",
    "i = 0\n",
    "for key, value in model_dict.items():\n",
    "print(f\"{value} Model \")\n",
    "print(f\"\n",
    "Classification Report:\n",
    "{classification_report(y_test, models[i].predict(X_test))}\")\n",
    "print(f\"\n",
    "{value} model accuracy: {round(accuracy_score(y_test, models[i].predict(X_test)), 2)}\")\n",
    "print(f'\n",
    "{\"-\"*55}\n",
    "')\n",
    "i+=1"
   ]
  },
  {
   "cell_type": "code",
   "execution_count": null,
   "id": "2c327877",
   "metadata": {},
   "outputs": [],
   "source": []
  }
 ],
 "metadata": {
  "kernelspec": {
   "display_name": "tensor",
   "language": "python",
   "name": "tensor"
  },
  "language_info": {
   "codemirror_mode": {
    "name": "ipython",
    "version": 3
   },
   "file_extension": ".py",
   "mimetype": "text/x-python",
   "name": "python",
   "nbconvert_exporter": "python",
   "pygments_lexer": "ipython3",
   "version": "3.7.0"
  }
 },
 "nbformat": 4,
 "nbformat_minor": 5
}
